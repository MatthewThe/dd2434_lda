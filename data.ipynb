{
 "cells": [
  {
   "cell_type": "markdown",
   "metadata": {},
   "source": [
    "Check this link for the sklearn example of LDA http://scikit-learn.org/stable/auto_examples/applications/plot_topics_extraction_with_nmf_lda.html#sphx-glr-auto-examples-applications-plot-topics-extraction-with-nmf-lda-py\n",
    "\n",
    "Also this link for the C implementation of our paper from the lab of Blei: https://github.com/blei-lab/lda-c\n",
    "The input format is different in this case."
   ]
  },
  {
   "cell_type": "code",
   "execution_count": 2,
   "metadata": {},
   "outputs": [],
   "source": [
    "from sklearn.feature_extraction.text import CountVectorizer"
   ]
  },
  {
   "cell_type": "code",
   "execution_count": 3,
   "metadata": {},
   "outputs": [],
   "source": [
    "import os"
   ]
  },
  {
   "cell_type": "markdown",
   "metadata": {},
   "source": [
    "Maybe we should use the fetch_20newsgroups from the sklearn example. Otherwise, for the reuters data, I have added a regexp to omit words like mar7 sep4."
   ]
  },
  {
   "cell_type": "code",
   "execution_count": 4,
   "metadata": {},
   "outputs": [],
   "source": [
    "from bs4 import BeautifulSoup,SoupStrainer"
   ]
  },
  {
   "cell_type": "code",
   "execution_count": 5,
   "metadata": {},
   "outputs": [
    {
     "name": "stdout",
     "output_type": "stream",
     "text": [
      "reutersdata/reut2-013.sgm\n"
     ]
    },
    {
     "name": "stderr",
     "output_type": "stream",
     "text": [
      "/usr/lib/python3/dist-packages/bs4/__init__.py:166: UserWarning: No parser was explicitly specified, so I'm using the best available HTML parser for this system (\"lxml\"). This usually isn't a problem, but if you run this code on another system, or in a different virtual environment, it may use a different parser and behave differently.\n",
      "\n",
      "To get rid of this warning, change this:\n",
      "\n",
      " BeautifulSoup([your markup])\n",
      "\n",
      "to this:\n",
      "\n",
      " BeautifulSoup([your markup], \"lxml\")\n",
      "\n",
      "  markup_type=markup_type))\n"
     ]
    },
    {
     "name": "stdout",
     "output_type": "stream",
     "text": [
      "reutersdata/reut2-003.sgm\n",
      "reutersdata/reut2-021.sgm\n",
      "reutersdata/reut2-018.sgm\n",
      "reutersdata/reut2-005.sgm\n",
      "reutersdata/reut2-001.sgm\n",
      "reutersdata/reut2-008.sgm\n",
      "reutersdata/reut2-010.sgm\n",
      "reutersdata/reut2-004.sgm\n",
      "reutersdata/reut2-017.sgm\n",
      "reutersdata/reut2-000.sgm\n",
      "reutersdata/reut2-015.sgm\n",
      "reutersdata/reut2-002.sgm\n",
      "reutersdata/reut2-007.sgm\n",
      "reutersdata/reut2-019.sgm\n",
      "reutersdata/reut2-006.sgm\n",
      "reutersdata/reut2-014.sgm\n",
      "reutersdata/reut2-011.sgm\n",
      "reutersdata/reut2-020.sgm\n",
      "reutersdata/reut2-012.sgm\n",
      "reutersdata/reut2-009.sgm\n",
      "reutersdata/reut2-016.sgm\n"
     ]
    }
   ],
   "source": [
    "data = []\n",
    "for file in os.listdir('reutersdata'):\n",
    "    if file.endswith('.sgm'):\n",
    "        f = open('reutersdata/' + file,'rb')\n",
    "        print('reutersdata/' + file)\n",
    "        filestring = f.read()\n",
    "        soup = BeautifulSoup(filestring)\n",
    "        contents = soup.findAll('text')\n",
    "        for content in contents:\n",
    "            data.append(content.text)"
   ]
  },
  {
   "cell_type": "code",
   "execution_count": 6,
   "metadata": {},
   "outputs": [
    {
     "data": {
      "text/plain": [
       "<21578x48391 sparse matrix of type '<class 'numpy.int64'>'\n",
       "\twith 1663528 stored elements in Compressed Sparse Row format>"
      ]
     },
     "execution_count": 6,
     "metadata": {},
     "output_type": "execute_result"
    }
   ],
   "source": [
    "vectorizer = CountVectorizer()\n",
    "vectorizer.fit_transform(data)"
   ]
  },
  {
   "cell_type": "code",
   "execution_count": 10,
   "metadata": {},
   "outputs": [],
   "source": [
    "n_samples = 2000\n",
    "n_features = 1000\n",
    "n_components = 10\n",
    "n_top_words = 20\n",
    "data_samples = data[:n_samples]"
   ]
  },
  {
   "cell_type": "code",
   "execution_count": 11,
   "metadata": {},
   "outputs": [],
   "source": [
    "from sklearn.decomposition import LatentDirichletAllocation"
   ]
  },
  {
   "cell_type": "code",
   "execution_count": 58,
   "metadata": {},
   "outputs": [],
   "source": [
    "tf_vectorizer = CountVectorizer(max_df=0.95, min_df=3,\n",
    "                                max_features=n_features,\n",
    "                                token_pattern= '(?u)\\\\b[a-zA-Z_][a-zA-Z_]+\\\\b',\n",
    "                                stop_words='english')\n",
    "tf = tf_vectorizer.fit_transform(data_samples)"
   ]
  },
  {
   "cell_type": "code",
   "execution_count": 59,
   "metadata": {},
   "outputs": [
    {
     "data": {
      "text/plain": [
       "LatentDirichletAllocation(batch_size=128, doc_topic_prior=None,\n",
       "             evaluate_every=-1, learning_decay=0.7,\n",
       "             learning_method='online', learning_offset=50.0,\n",
       "             max_doc_update_iter=100, max_iter=5, mean_change_tol=0.001,\n",
       "             n_components=10, n_jobs=1, n_topics=None, perp_tol=0.1,\n",
       "             random_state=0, topic_word_prior=None,\n",
       "             total_samples=1000000.0, verbose=0)"
      ]
     },
     "execution_count": 59,
     "metadata": {},
     "output_type": "execute_result"
    }
   ],
   "source": [
    "lda = LatentDirichletAllocation(n_components=n_components, max_iter=5,\n",
    "                                learning_method='online',\n",
    "                                learning_offset=50.,\n",
    "                                random_state=0)\n",
    "lda.fit(tf)"
   ]
  },
  {
   "cell_type": "code",
   "execution_count": 60,
   "metadata": {},
   "outputs": [],
   "source": [
    "def print_top_words(model, feature_names, n_top_words):\n",
    "    for topic_idx, topic in enumerate(model.components_):\n",
    "        message = \"Topic #%d: \" % topic_idx\n",
    "        message += \" \".join([feature_names[i]\n",
    "                             for i in topic.argsort()[:-n_top_words - 1:-1]])\n",
    "        print(message)\n",
    "    print()"
   ]
  },
  {
   "cell_type": "code",
   "execution_count": 61,
   "metadata": {},
   "outputs": [
    {
     "name": "stdout",
     "output_type": "stream",
     "text": [
      "Topic #0: said mln dlrs reuter march company new shares pct corp oil stock april tonnes share year prices group unit common\n",
      "Topic #1: apr nil unch april tonne open dec aug sep total cash oct jly london tonnes rubber apl jne wheat copper\n",
      "Topic #2: gold silver ibm untrd ounces cbt ounce april ton tons chicago said reuter reserves comex rand mines merrill futures ny\n",
      "Topic #3: said japan london trade market new trading officials japanese exchange reuter today tokyo british government minister sources york stock party\n",
      "Topic #4: chrysler amc usair american air airlines miles renault said mln corp piedmont march service strike merger continental texas motors factor\n",
      "Topic #5: pct said year market march rate rates dollar reuter week dealers april month february higher rose bank lower yesterday january\n",
      "Topic #6: billion dlrs mln china fell march total foreign rose reserves deficit end ecuador reserve budget kong said government reuter hong\n",
      "Topic #7: pct mln stg april issue march london reuter bond said notes lead debentures dlrs bank debt bonds convertible dlr offering\n",
      "Topic #8: vs mln cts dlrs net loss year shr profit reuter march revs qtr share sales oper april quarter note dividend\n",
      "Topic #9: said bank blah debt year banks new reuter world government economic billion pct foreign trade growth rate dollar policy dlrs\n",
      "\n"
     ]
    }
   ],
   "source": [
    "tf_feature_names = tf_vectorizer.get_feature_names()\n",
    "print_top_words(lda, tf_feature_names, n_top_words)"
   ]
  },
  {
   "cell_type": "code",
   "execution_count": null,
   "metadata": {},
   "outputs": [],
   "source": []
  },
  {
   "cell_type": "code",
   "execution_count": null,
   "metadata": {},
   "outputs": [],
   "source": []
  },
  {
   "cell_type": "code",
   "execution_count": null,
   "metadata": {},
   "outputs": [],
   "source": []
  },
  {
   "cell_type": "code",
   "execution_count": null,
   "metadata": {},
   "outputs": [],
   "source": []
  },
  {
   "cell_type": "code",
   "execution_count": null,
   "metadata": {},
   "outputs": [],
   "source": []
  }
 ],
 "metadata": {
  "kernelspec": {
   "display_name": "Python 3",
   "language": "python",
   "name": "python3"
  },
  "language_info": {
   "codemirror_mode": {
    "name": "ipython",
    "version": 3
   },
   "file_extension": ".py",
   "mimetype": "text/x-python",
   "name": "python",
   "nbconvert_exporter": "python",
   "pygments_lexer": "ipython3",
   "version": "3.5.2"
  }
 },
 "nbformat": 4,
 "nbformat_minor": 2
}
